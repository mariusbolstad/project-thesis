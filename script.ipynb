{
 "cells": [
  {
   "cell_type": "code",
   "execution_count": 1,
   "metadata": {},
   "outputs": [],
   "source": [
    "import pandas as pd\n",
    "\n",
    "# Step 1: Load the csv file into a pandas DataFrame\n",
    "df = pd.read_csv(\"./data/all_baci.csv\")\n",
    "\n",
    "# Step 2: Convert the 'Date' column to a datetime format\n",
    "df['Date'] = pd.to_datetime(df['Date'])\n",
    "\n",
    "# Step 3: Set the 'Date' column as the DataFrame's index\n",
    "df.set_index('Date', inplace=True)\n",
    "\n",
    "# Step 4: Resample to get the last observation of each month\n",
    "df_monthly = df.resample('M').last()\n",
    "\n",
    "df_monthly.to_csv(\"baci_monthly.csv\")\n"
   ]
  }
 ],
 "metadata": {
  "kernelspec": {
   "display_name": "Python 3",
   "language": "python",
   "name": "python3"
  },
  "language_info": {
   "codemirror_mode": {
    "name": "ipython",
    "version": 3
   },
   "file_extension": ".py",
   "mimetype": "text/x-python",
   "name": "python",
   "nbconvert_exporter": "python",
   "pygments_lexer": "ipython3",
   "version": "3.11.4"
  }
 },
 "nbformat": 4,
 "nbformat_minor": 2
}
